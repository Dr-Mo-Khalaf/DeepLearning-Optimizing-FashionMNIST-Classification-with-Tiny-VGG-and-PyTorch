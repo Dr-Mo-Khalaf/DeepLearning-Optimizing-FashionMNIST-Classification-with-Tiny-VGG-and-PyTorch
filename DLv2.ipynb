{
 "cells": [
  {
   "cell_type": "code",
   "execution_count": 505,
   "id": "95ea96f0-bcec-4972-bc37-2eb90e5602d0",
   "metadata": {},
   "outputs": [],
   "source": [
    "# Created by Dr. Moh Khalaf to help my team to review basics concepts\n",
    "# torch\n",
    "import torch\n",
    "from torch import nn\n",
    "\n",
    "# computer vision\n",
    "import torchvision\n",
    "from torchvision import datasets , transforms\n",
    "from torchvision.transforms import ToTensor\n",
    "\n",
    "#  DataLoader\n",
    "from torch.utils.data import DataLoader\n",
    "#TensorDataset is a class from the torch.utils.data module that is used to store data in the form of tensors. \n",
    "#It is particularly useful when you want to pair input data (features) with corresponding labels, creating a dataset \n",
    "#that can be easily used with PyTorch DataLoader\n",
    "from torch.utils.data import TensorDataset  \n",
    "\n",
    "# Visualization \n",
    "import matplotlib.pylab as plt \n",
    "# import the timer \n",
    "from timeit import default_timer as timer\n",
    "# from tqdm import tqdm\n",
    "from tqdm.auto import tqdm\n",
    "\n",
    "import random    # to use the random.samples()\n",
    "\n",
    "# Checks if a CUDA-capable GPU is available on the system\n",
    "device = \"cuda\" if torch.cuda.is_available() else \"cpu\""
   ]
  },
  {
   "cell_type": "code",
   "execution_count": null,
   "id": "1d0cd2c2-debd-4a5a-a2fd-43f3a2963e30",
   "metadata": {},
   "outputs": [],
   "source": []
  },
  {
   "cell_type": "markdown",
   "id": "c1f76d27-c864-46ac-b041-1a1ab3ccaf19",
   "metadata": {},
   "source": [
    "#### DataLoader:\n",
    "* <span style=\"color:blue;\">__Iterate over data in batches:__ </span> This is crucial for training deep learning models, as feeding the entire dataset at once is usually not feasible due to memory limitations.\n",
    "* <span style=\"color:blue;\">__Shuffle the data (optional):__</span> Shuffling helps to prevent the model from overfitting to the training data by presenting it in a random order during each epoch.\n",
    "* <span style=\"color:blue;\">__Load data in parallel (optional):__</span> By utilizing multiple CPU cores or GPUs, DataLoader can significantly speed up data loading.\n",
    "* <span style=\"color:blue;\">__Apply custom data transformations:__</span> You can define functions to pre-process your data (e.g., normalization, resizing) and integrate them with DataLoader."
   ]
  },
  {
   "cell_type": "code",
   "execution_count": null,
   "id": "6f9bbaf2-3773-4f12-bd49-3e727068a04d",
   "metadata": {},
   "outputs": [],
   "source": []
  },
  {
   "cell_type": "markdown",
   "id": "31f036ca-35d7-4d09-b010-90997a52f0f8",
   "metadata": {},
   "source": [
    "### 1. Getting the dataset"
   ]
  },
  {
   "cell_type": "code",
   "execution_count": 506,
   "id": "5646879b-234e-4a3c-88fe-5285859843b9",
   "metadata": {},
   "outputs": [],
   "source": [
    "train_data = datasets.FashionMNIST(\n",
    "    root=\"data\", # the folder name to download it in\n",
    "    train=True,  # train--> True , Test --> False\n",
    "    download=True,  # download\n",
    "    transform=torchvision.transforms.ToTensor(), # how to transform the data\n",
    "    target_transform=None  # # how to transform the Label    \n",
    ")\n",
    "test_data = datasets.FashionMNIST(\n",
    "    root=\"data\",\n",
    "    train=False,\n",
    "    download=False,\n",
    "    transform=torchvision.transforms.ToTensor(), # or transform=ToTensor()\n",
    "    #ToTensor() convert PIL or Numpy.ndarray(H * W * C) in the range[0,255] to (C * H * W) in the range [0.0, 1.0]\n",
    "    target_transform=None\n",
    ")"
   ]
  },
  {
   "cell_type": "code",
   "execution_count": 507,
   "id": "57a2c394-990b-4523-a2e4-9d77c860bc47",
   "metadata": {},
   "outputs": [
    {
     "data": {
      "text/plain": [
       "(['T-shirt/top',\n",
       "  'Trouser',\n",
       "  'Pullover',\n",
       "  'Dress',\n",
       "  'Coat',\n",
       "  'Sandal',\n",
       "  'Shirt',\n",
       "  'Sneaker',\n",
       "  'Bag',\n",
       "  'Ankle boot'],\n",
       " {'T-shirt/top': 0,\n",
       "  'Trouser': 1,\n",
       "  'Pullover': 2,\n",
       "  'Dress': 3,\n",
       "  'Coat': 4,\n",
       "  'Sandal': 5,\n",
       "  'Shirt': 6,\n",
       "  'Sneaker': 7,\n",
       "  'Bag': 8,\n",
       "  'Ankle boot': 9})"
      ]
     },
     "execution_count": 507,
     "metadata": {},
     "output_type": "execute_result"
    }
   ],
   "source": [
    "classNames = train_data.classes\n",
    "classIndex = train_data.class_to_idx\n",
    "classNames , classIndex"
   ]
  },
  {
   "cell_type": "code",
   "execution_count": 508,
   "id": "9ccc4a1e-8932-45c8-8fbb-8f58bfcae770",
   "metadata": {},
   "outputs": [],
   "source": [
    "# number of class = 10 then output shape = 10 "
   ]
  },
  {
   "cell_type": "code",
   "execution_count": 509,
   "id": "cda674bb-e797-4728-bea0-146f98c9e4a6",
   "metadata": {},
   "outputs": [
    {
     "data": {
      "text/plain": [
       "(Dataset FashionMNIST\n",
       "     Number of datapoints: 60000\n",
       "     Root location: data\n",
       "     Split: Train\n",
       "     StandardTransform\n",
       " Transform: ToTensor(),\n",
       " Dataset FashionMNIST\n",
       "     Number of datapoints: 10000\n",
       "     Root location: data\n",
       "     Split: Test\n",
       "     StandardTransform\n",
       " Transform: ToTensor())"
      ]
     },
     "execution_count": 509,
     "metadata": {},
     "output_type": "execute_result"
    }
   ],
   "source": [
    "train_data , test_data"
   ]
  },
  {
   "cell_type": "markdown",
   "id": "60166638-6c21-4e2a-b000-dc3b46429383",
   "metadata": {},
   "source": [
    "### check the data"
   ]
  },
  {
   "cell_type": "code",
   "execution_count": 510,
   "id": "dc0f4eab-bc27-4eb0-a31d-1c5fb9fb459a",
   "metadata": {},
   "outputs": [
    {
     "name": "stdout",
     "output_type": "stream",
     "text": [
      "torch.Size([1, 28, 28])\n"
     ]
    }
   ],
   "source": [
    "image , label = train_data[2]\n",
    "\n",
    "#check the shape\n",
    "print(image.shape) #---> the shape is torch.Size([1, 28, 28]) plt.imshow() is a function in Matplotlib,\n",
    "#typically used to display images in Python. It takes an array \n",
    "#(often a 2D array for grayscale images or a 3D array for RGB images) as input and visualizes it as an image."
   ]
  },
  {
   "cell_type": "markdown",
   "id": "7d0af557-c4cf-417d-9fb2-eef9f394380f",
   "metadata": {},
   "source": [
    "### Create visualization function \n",
    "used to visualize the images and labels of data like train_data, teest_data, ....."
   ]
  },
  {
   "cell_type": "code",
   "execution_count": 511,
   "id": "b48d57f7-3346-431a-b3b8-86027758ee82",
   "metadata": {},
   "outputs": [
    {
     "name": "stdout",
     "output_type": "stream",
     "text": [
      "torch.float32\n"
     ]
    }
   ],
   "source": [
    "print(test_data[0][0].dtype)"
   ]
  },
  {
   "cell_type": "code",
   "execution_count": 512,
   "id": "b00a1b56-55c9-4912-9948-90c840d3321e",
   "metadata": {},
   "outputs": [],
   "source": [
    "def plot_fn(data , cmap1 = None , title1 = None, text :str = \"\"):\n",
    "    # visualize some data (images)\n",
    "    torch.manual_seed(42)\n",
    "    fig = plt.figure(figsize=(12,12))\n",
    "    rows , cols = 4 , 4\n",
    "  # Use padding with spaces for approximate centering\n",
    "    print(f'\"\\n\" + \" \" * 20 + \"----------- Plotting  2 * 8 samples with label  {text}-----------\" + \"\\n\"')\n",
    "    for i in range(0 , rows*cols):\n",
    "        imageSelcted, labelSelected = data[i]\n",
    "        fig.add_subplot(rows,cols,i+1)\n",
    "        image , label = data[i]\n",
    "        imagesReshape = image.squeeze()\n",
    "        plt.imshow(imagesReshape )\n",
    "\n",
    "        cmap = cmap1[i] if cmap1 is not None else \"gray\"\n",
    "        title = title1[i] if title1 is not None else classNames[label]     \n",
    "            \n",
    "        plt.imshow(imagesReshape , cmap=cmap )   \n",
    "        plt.title(title)\n",
    "        plt.axis(False)\n",
    "        "
   ]
  },
  {
   "cell_type": "code",
   "execution_count": 513,
   "id": "b82cb66c-8b52-4d0b-9cd1-20cb6b26148a",
   "metadata": {},
   "outputs": [
    {
     "name": "stdout",
     "output_type": "stream",
     "text": [
      "\"\n",
      "\" + \" \" * 20 + \"----------- Plotting  2 * 8 samples with label  train data-----------\" + \"\n",
      "\"\n"
     ]
    },
    {
     "data": {
      "image/png": "[encoded data removed]",
      "text/plain": [
       "<Figure size 1200x1200 with 16 Axes>"
      ]
     },
     "metadata": {},
     "output_type": "display_data"
    }
   ],
   "source": [
    "plot_fn(train_data , text=\"train data\")"
   ]
  },
  {
   "cell_type": "code",
   "execution_count": null,
   "id": "a41db345-9e93-4a8f-a4c7-9a650d7b8003",
   "metadata": {},
   "outputs": [],
   "source": []
  },
  {
   "cell_type": "code",
   "execution_count": 514,
   "id": "22ff0bb6-0b00-4c61-b3b9-064c2976b742",
   "metadata": {},
   "outputs": [
    {
     "data": {
      "text/plain": [
       "(1875, 313)"
      ]
     },
     "execution_count": 514,
     "metadata": {},
     "output_type": "execute_result"
    }
   ],
   "source": [
    "# setup the batch size hyperparameter to divide the data set to avoid got infinte computing power \n",
    "BATCH_SIZE = 32\n",
    "# Turn data sets into iterables ( batches)\n",
    "train_dataloader = DataLoader(dataset=train_data,batch_size=BATCH_SIZE, shuffle=True)\n",
    "test_dataloader = DataLoader(dataset=test_data,batch_size=BATCH_SIZE,shuffle=False)\n",
    "len(train_dataloader) , len(test_dataloader) "
   ]
  },
  {
   "cell_type": "code",
   "execution_count": 515,
   "id": "ef49b7c9-9ec0-44f4-92f0-330f24c890bc",
   "metadata": {},
   "outputs": [
    {
     "name": "stdout",
     "output_type": "stream",
     "text": [
      "train_data_features/batch : torch.Size([32, 1, 28, 28])\n",
      "train_data_label features/batch : torch.Size([32])\n"
     ]
    }
   ],
   "source": [
    "### check the data output from the dataloader\n",
    "train_data_features_batch , train_data_label_batch=next(iter(train_dataloader))\n",
    "print(f\"train_data_features/batch : {train_data_features_batch.shape}\")\n",
    "print(f\"train_data_label features/batch : {train_data_label_batch.shape}\")"
   ]
  },
  {
   "cell_type": "markdown",
   "id": "fa0cf1b1-1e90-447e-816d-e98f5323c891",
   "metadata": {},
   "source": [
    "## Building a Convolutional Neural Network (CNN) Model"
   ]
  },
  {
   "cell_type": "markdown",
   "id": "ec086365-6a1d-47ef-b06c-e6a8c078e7fd",
   "metadata": {},
   "source": [
    "<img src=\"src/img/tiny.jpg\" alt=\"Tiny image\"  height=\"200\">\n"
   ]
  },
  {
   "cell_type": "code",
   "execution_count": 516,
   "id": "0e7e69db-9aab-444d-914d-2be98417c04f",
   "metadata": {},
   "outputs": [],
   "source": [
    "# Create the Model class\n",
    "class model_v1(nn.Module):\n",
    "    def __init__(self, inputShape:int, hidden_units:int, \n",
    "                 output:int, H:int, W:int): \n",
    "        super().__init__()\n",
    "        ###---------- Block 1-------------------\n",
    "        self.block_1 = nn.Sequential(\n",
    "            nn.Conv2d(in_channels=inputShape,\n",
    "                     out_channels=hidden_units,\n",
    "                     kernel_size=3,\n",
    "                     stride=1, padding=1),\n",
    "            nn.ReLU(),\n",
    "            nn.Conv2d(in_channels=hidden_units,\n",
    "                      out_channels=hidden_units,\n",
    "                      kernel_size=3,\n",
    "                      stride=1,padding=1),\n",
    "            nn.ReLU(),\n",
    "            nn.MaxPool2d(kernel_size=2,stride=2)    # image size divided by 2 = [ 1 , H/2, w/2 ]                \n",
    "                ) # get the max of 2*2 matrix which is 1 : this means kernal = 2\n",
    "        ###-------------End of Block --------------\n",
    "        \n",
    "        ###-------------Start of Block 2 ----------\n",
    "        self.block_2 = nn.Sequential(\n",
    "              nn.Conv2d(in_channels=hidden_units,\n",
    "                        out_channels=hidden_units,\n",
    "                        kernel_size=3,stride=1, padding=1 ),\n",
    "              nn.ReLU(),\n",
    "              nn.Conv2d(in_channels=hidden_units,\n",
    "                         out_channels=hidden_units,\n",
    "                        kernel_size=3, \n",
    "                       stride=1, padding=1), \n",
    "              nn.ReLU(),\n",
    "              nn.MaxPool2d(kernel_size=2,stride=2)    # image [1,H/2 , W/2 ] --> image [ 1 , H/4, W/4] \n",
    "                                             )\n",
    "       \n",
    "             ### --------------End of block 2 -------------      \n",
    "            ### convert multidimension tensor to single dimension tensor\n",
    "            ### --------------Start of output layer --------\n",
    "         ### Dynamic calculation for Flatten layer input size\n",
    "        \n",
    "        self.classifier = nn.Sequential(\n",
    "              nn.Flatten(),  # convert image from [1, H/4 , W/4 ] -to->  [ 1, H/4 * W/4 ]\n",
    "              \n",
    "              nn.Linear(in_features=int(hidden_units*H*W/(4*4)),out_features=output)  )\n",
    "        \n",
    "    def forward(self, x):\n",
    "        x = self.block_1(x)\n",
    "        # print(\"After block 1:\", x.shape)\n",
    "        x = self.block_2(x)\n",
    "        # print(\"After block 2:\", x.shape)\n",
    "        x = self.classifier(x)\n",
    "        # print(\"After classifier:\", x.shape)\n",
    "        return x\n",
    "        # return self.classifier(self.block_2(self.block_1(x)))"
   ]
  },
  {
   "cell_type": "markdown",
   "id": "62f10eb3-858c-49b1-80a7-ce6e127ee6ab",
   "metadata": {},
   "source": [
    "### Create the model1"
   ]
  },
  {
   "cell_type": "code",
   "execution_count": 517,
   "id": "fc016d18-dc25-4c39-855c-977d6866df21",
   "metadata": {},
   "outputs": [
    {
     "name": "stdout",
     "output_type": "stream",
     "text": [
      "<generator object Module.parameters at 0x000001F950E55620>\n",
      "490\n"
     ]
    }
   ],
   "source": [
    "model1 =model_v1(inputShape=1, hidden_units=10, \n",
    "                 output = 10 , H=28 , W=28 )\n",
    "print(model_v1.parameters(train_data_features_batch))\n",
    "print(10*int((28/4)*(28/4)))"
   ]
  },
  {
   "cell_type": "markdown",
   "id": "ab920803-14a2-41bf-b88b-872816cc0178",
   "metadata": {},
   "source": [
    "### Create Accuracy function"
   ]
  },
  {
   "cell_type": "code",
   "execution_count": 518,
   "id": "ba2519ea-06e1-4abf-b9e4-9b96ef2ca3bb",
   "metadata": {},
   "outputs": [],
   "source": [
    "# create function to calculate the accuracy (a classification metric)\n",
    "def accuracy_fn(y_true, y_pred):\n",
    "    \"\"\"accuracy function needs to enter the True data and the predected data \"\"\"\n",
    "    correct = torch.eq(y_true, y_pred).sum().item() # torch.eq() calculates where two tensors are equal\n",
    "    accuracy = (correct / len(y_pred)) * 100 \n",
    "    return accuracy"
   ]
  },
  {
   "cell_type": "markdown",
   "id": "6179ad18-0f74-429e-bc3e-228dd37b6dde",
   "metadata": {},
   "source": [
    "### Create loss and optimizer"
   ]
  },
  {
   "cell_type": "code",
   "execution_count": 519,
   "id": "ec227121-4d73-4008-8a46-8681e1618003",
   "metadata": {},
   "outputs": [],
   "source": [
    "# Setup loss and optimizer\n",
    "loss_fn = nn.CrossEntropyLoss()\n",
    "optimizer = torch.optim.SGD(params=model1.parameters(), \n",
    "                             lr=0.1)"
   ]
  },
  {
   "cell_type": "markdown",
   "id": "32a422a2-6891-4b71-82f4-c2b531418e94",
   "metadata": {},
   "source": [
    "### Create the train function"
   ]
  },
  {
   "cell_type": "code",
   "execution_count": 520,
   "id": "4e9583e6-abd6-4fe5-8b5b-ce65d50c3aa2",
   "metadata": {},
   "outputs": [],
   "source": [
    "def train_fn(model:nn.Module,\n",
    "            data_loader:torch.utils.data.DataLoader,\n",
    "            optimizer : torch.optim.SGD,\n",
    "            loss_fn:torch.nn.Module,\n",
    "            accuracy_fn, device : torch.device=device ):\n",
    "    #initial values    \n",
    "    trainLoss, trainAccuracy = 0 , 0\n",
    "    model.to(device)\n",
    "    model.train() # set the model in the training mode\n",
    "    # start get the batch , images , lebals \n",
    "    # In PyTorch, enumerate(data_loader) is used to iterate over a DataLoader object\n",
    "    # while also keeping track of the batch index. This is useful when you need both \n",
    "    # the batch data and its index in a training loop, for instance.\n",
    "    for batch , ( X, y ) in enumerate(data_loader) :\n",
    "        #send data to ( GPU or CPU)\n",
    "        X , y = X.to(device) , y.to(device)\n",
    "        # 1. Forward pass \n",
    "        y_pred = model(X)\n",
    "\n",
    "        # 2. Calculate the loss\n",
    "        loss = loss_fn(y_pred,y)\n",
    "        trainLoss += loss\n",
    "        trainAccuracy += accuracy_fn(y_true = y, y_pred=y_pred.argmax(dim=1)) \n",
    "#Example\n",
    "# y_pred = torch.tensor([[0.2, 0.5, 0.3],\n",
    "#                        [0.1, 0.4, 0.5],\n",
    "#                        [0.6, 0.2, 0.2],\n",
    "#                        [0.3, 0.3, 0.4]])\n",
    "\n",
    "# # Find the index of the maximum value in each row\n",
    "# predicted_classes = y_pred.argmax(dim=1)\n",
    "\n",
    "# print(predicted_classes)  # Output: tensor([1, 2, 0, 2])\n",
    "       \n",
    "        # 3. Optimizer zero grad\n",
    "        optimizer.zero_grad()\n",
    "        \n",
    "        # 4. Loss backward\n",
    "        loss.backward()\n",
    "\n",
    "        # 5.Optimizer step \n",
    "        optimizer.step()\n",
    "\n",
    "    trainLoss /=len(data_loader)\n",
    "    trainAccuracy /=len(data_loader)\n",
    "    print(f\" Model training Loss : {trainLoss:0.5f} | Model Accuracy : {trainAccuracy:0.2f} \")\n",
    "\n"
   ]
  },
  {
   "cell_type": "markdown",
   "id": "be5d9e85-2baa-4edb-913b-dac7b132eceb",
   "metadata": {},
   "source": [
    "### Create the test function"
   ]
  },
  {
   "cell_type": "code",
   "execution_count": 521,
   "id": "4ae10d09-6bf3-448e-a0d6-dfec2b42fcb5",
   "metadata": {},
   "outputs": [],
   "source": [
    "def test_fn( model:torch.nn.Module,\n",
    "             data_loader: torch.utils.data.DataLoader,\n",
    "             loss_fn:torch.nn.Module,\n",
    "             accuracy_fn,\n",
    "             device : torch.device=device):\n",
    "  # initial values and setup\n",
    "    testLoss , testAccuracy = 0 , 0\n",
    "    model.to(device)\n",
    "    model.eval() # put model in the evaluation mode\n",
    " # Turn on the infernce context manager \n",
    "    with torch.inference_mode():\n",
    "        for X, y in data_loader:\n",
    "            # send data to device\n",
    "            X, y = X.to(device), y.to(device)\n",
    "            # Forward pass \n",
    "            test_pred = model(X)\n",
    "            #Calculate the loss and accuracy \n",
    "            testLoss += loss_fn(test_pred, y)\n",
    "            testAccuracy+=accuracy_fn(y_true = y, y_pred=test_pred.argmax(dim=1))\n",
    "    testLoss = testLoss /len(data_loader)\n",
    "    testAccuracy/=len(data_loader)\n",
    "    print(f\" Model testing Loss : {testLoss:0.5f} | Model testing Accuracy : {testAccuracy:0.2f} \")\n",
    "            \n",
    "\n",
    "        "
   ]
  },
  {
   "cell_type": "markdown",
   "id": "3193cd16-db05-4f83-8605-dc8a36843054",
   "metadata": {},
   "source": [
    "### Create the Prediction function"
   ]
  },
  {
   "cell_type": "code",
   "execution_count": 522,
   "id": "11cf3e2e-bf11-45a3-a49c-3db7ecef9fdc",
   "metadata": {},
   "outputs": [],
   "source": [
    "   \n",
    "def prediction_fn( model : torch.nn.Module, data : list , device : torch.device=device ):\n",
    "    '''return the predicteded class'''\n",
    "    predictionProbabilities =[]\n",
    "    model.eval()\n",
    "    with torch.inference_mode():\n",
    "        for sample in data:\n",
    "            sample = torch.unsqueeze(sample, dim=0).to(device)\n",
    "\n",
    "            pred_out = model(sample)\n",
    "            # get the probability\n",
    "            pred_Probability = torch.softmax(pred_out.squeeze(), dim=0) #the softmax function is a crucial activation function. It maps a vector of numbers to a probability distribution.\n",
    "            predictionProbabilities.append(pred_Probability.cpu())\n",
    "    # use stack to turn probabilies list to Tensor\n",
    "    prediction_results = torch.stack(predictionProbabilities)\n",
    "\n",
    "    predectedClasses = prediction_results.argmax(dim = 1) # argmax (argument of the maximum) is a function that returns the argument (or input) that produces the maximum value of a given function.\n",
    "    \n",
    "    return predectedClasses \n"
   ]
  },
  {
   "cell_type": "markdown",
   "id": "dbcf14e5-b308-4b03-9dc7-bd45861bbf92",
   "metadata": {},
   "source": [
    "### Training the model"
   ]
  },
  {
   "cell_type": "code",
   "execution_count": 523,
   "id": "a26fabf6-fb8f-47d6-a518-00d3f92d0300",
   "metadata": {},
   "outputs": [
    {
     "data": {
      "application/vnd.jupyter.widget-view+json": {
       "model_id": "8a1266c2db8f4abf930575815570c98e",
       "version_major": 2,
       "version_minor": 0
      },
      "text/plain": [
       "  0%|          | 0/3 [00:00<?, ?it/s]"
      ]
     },
     "metadata": {},
     "output_type": "display_data"
    },
    {
     "name": "stdout",
     "output_type": "stream",
     "text": [
      "Epoch: 0\n",
      "---------\n",
      " Model training Loss : 0.66894 | Model Accuracy : 75.79 \n",
      "Epoch: 1\n",
      "---------\n",
      " Model training Loss : 0.35925 | Model Accuracy : 87.02 \n",
      "Epoch: 2\n",
      "---------\n",
      " Model training Loss : 0.32163 | Model Accuracy : 88.33 \n",
      "total training time :184.1845983999956\n"
     ]
    }
   ],
   "source": [
    "torch.manual_seed(42)\n",
    "\n",
    "startTime = timer()\n",
    "\n",
    "epochs = 3\n",
    "pbar = tqdm(total=len(test_dataloader), desc=\"taining \")\n",
    "for epoch in range(epochs):\n",
    "    print(f\"Epoch: {epoch}\\n---------\")\n",
    "    train_fn(data_loader=train_dataloader, \n",
    "        model=model1, \n",
    "        loss_fn=loss_fn,\n",
    "        optimizer=optimizer,\n",
    "        accuracy_fn=accuracy_fn    )\n",
    "        pbar.update(1)\n",
    "\n",
    "endTime = timer()\n",
    "\n",
    "print(f\"total training time :{endTime-startTime}\")"
   ]
  },
  {
   "cell_type": "markdown",
   "id": "ec67e198-c9e3-47d4-a487-12dc836ae20a",
   "metadata": {},
   "source": [
    "### Testing the model"
   ]
  },
  {
   "cell_type": "code",
   "execution_count": 525,
   "id": "d9d0b4aa-29c1-4618-af03-2e25c77dd59a",
   "metadata": {},
   "outputs": [
    {
     "data": {
      "application/vnd.jupyter.widget-view+json": {
       "model_id": "546b4dc98dea4a1197b1714fdb60c31c",
       "version_major": 2,
       "version_minor": 0
      },
      "text/plain": [
       "Model Testing:   0%|          | 0/3 [00:00<?, ?it/s]"
      ]
     },
     "metadata": {},
     "output_type": "display_data"
    },
    {
     "name": "stdout",
     "output_type": "stream",
     "text": [
      "Epoch: 0\n",
      "---------\n",
      " Model testing Loss : 0.37182 | Model testing Accuracy : 86.64 \n",
      "Epoch: 1\n",
      "---------\n",
      " Model testing Loss : 0.37182 | Model testing Accuracy : 86.64 \n",
      "Epoch: 2\n",
      "---------\n",
      " Model testing Loss : 0.37182 | Model testing Accuracy : 86.64 \n",
      "total training time :14.902241600007983\n"
     ]
    }
   ],
   "source": [
    "torch.manual_seed(42)\n",
    "\n",
    "startTime = timer()\n",
    "\n",
    "epochs = 3\n",
    "pbar = tqdm(total=epochs, desc=\"Model Testing\")\n",
    "# for epoch in tqdm(range(epochs)):\n",
    "for epoch in range(epochs):\n",
    "    print(f\"Epoch: {epoch}\\n---------\")\n",
    "    test_fn(data_loader=test_dataloader, \n",
    "        model=model1, \n",
    "        loss_fn=loss_fn,\n",
    "        accuracy_fn=accuracy_fn    )\n",
    "    pbar.update(1)  # Update the progress bar by 1\n",
    "pbar.close()  # Close the progress bar\n",
    "\n",
    "endTime = timer()\n",
    "\n",
    "print(f\"total training time :{endTime-startTime}\")"
   ]
  },
  {
   "cell_type": "code",
   "execution_count": null,
   "id": "ffa32734-2b6d-4bcf-8db2-dfd286e1de3d",
   "metadata": {},
   "outputs": [],
   "source": []
  },
  {
   "cell_type": "markdown",
   "id": "eb962733-40b8-4a64-95f2-7462469c43c2",
   "metadata": {},
   "source": [
    "### Run the Model Prediction \n",
    "a) Create random samples from the test data\n"
   ]
  },
  {
   "cell_type": "code",
   "execution_count": 526,
   "id": "32cd2f5c-5582-4962-9ea0-94b15d23645a",
   "metadata": {},
   "outputs": [],
   "source": [
    "# import random\n",
    "# # random.seed(20)  # from import random\n",
    "# testImageSamples = []\n",
    "# testImageLabels = []\n",
    "# for sample , label in random.sample(list(test_data), k=20):  # k = number of samples\n",
    "#     testImageSamples.append(sample)\n",
    "#     testImageLabels.append(label)\n",
    "\n",
    "# print(f\"The shape of the test samples{ testImageSamples[1].shape}\")\n"
   ]
  },
  {
   "cell_type": "code",
   "execution_count": 527,
   "id": "7155a46e-5f27-4a44-9167-545e97c25e2e",
   "metadata": {},
   "outputs": [],
   "source": [
    "# testSamplesData = create_dataset(testImageSamples,testImageLabels)\n",
    "# plot_fn(testSamplesData)"
   ]
  },
  {
   "cell_type": "code",
   "execution_count": 528,
   "id": "78b4bbbd-0a68-4298-a887-8b367f5ba674",
   "metadata": {},
   "outputs": [
    {
     "name": "stdout",
     "output_type": "stream",
     "text": [
      "The shape of a single sample: torch.Size([1, 28, 28])\n",
      "The shape of the batched test samples: torch.Size([18, 1, 28, 28])\n"
     ]
    }
   ],
   "source": [
    "import random\n",
    "import torch\n",
    "from torch.utils.data import TensorDataset\n",
    "\n",
    "random.seed(42)\n",
    "\n",
    "#test_data is batched, with each batch having 32 samples.\n",
    "testImageSamples = []\n",
    "testImageLabels = []\n",
    "\n",
    "# Select 20 random samples from test_data\n",
    "for sample, label in random.sample(list(test_data), k=18):  # k = number of samples\n",
    "    testImageSamples.append(sample)\n",
    "    testImageLabels.append(label)\n",
    "\n",
    "# Check the shape of one sample\n",
    "print(f\"The shape of a single sample: {testImageSamples[0].shape}\")\n",
    "\n",
    "# the test data is batched (shape of [32, H, W])\n",
    "\n",
    "testImageSamples_tensor = torch.stack(testImageSamples)  # Stack to create a single tensor \n",
    "\n",
    "print(f\"The shape of the batched test samples: {testImageSamples_tensor.shape}\")  # This should give you a batch shape\n",
    "\n",
    "# Create the dataset\n",
    "testSampleDataset = create_tensor_dataset(testImageSamples_tensor, testImageLabels)\n"
   ]
  },
  {
   "cell_type": "code",
   "execution_count": 529,
   "id": "9e5207f7-173c-4358-9873-97690936ef87",
   "metadata": {},
   "outputs": [
    {
     "name": "stdout",
     "output_type": "stream",
     "text": [
      "titles---------------------------\n",
      "['Sandal', 'Trouser', 'Sneaker', 'predicted:Pullover | Original:Coat', 'Dress', 'T-shirt/top', 'Coat', 'Sneaker', 'Trouser', 'Ankle boot', 'Sneaker', 'Pullover', 'T-shirt/top', 'Trouser', 'T-shirt/top', 'predicted:Dress | Original:Coat', 'Sandal', 'predicted:Pullover | Original:Coat']\n",
      "\"\n",
      "\" + \" \" * 20 + \"----------- Plotting  2 * 8 samples with label  original data -----------\" + \"\n",
      "\"\n"
     ]
    },
    {
     "name": "stderr",
     "output_type": "stream",
     "text": [
      "Prediction: 100%|████████████████████████████████████████████████████████████████████| 313/313 [12:21<00:00,  2.37s/it]\n"
     ]
    },
    {
     "name": "stdout",
     "output_type": "stream",
     "text": [
      "-----------------------------------------\n"
     ]
    },
    {
     "data": {
      "image/png": "[encoded data removed]",
      "text/plain": [
       "<Figure size 1200x1200 with 16 Axes>"
      ]
     },
     "metadata": {},
     "output_type": "display_data"
    }
   ],
   "source": [
    "resultOfprediction = prediction_fn(model=model1, data=testImageSamples)  # Labels predicted\n",
    "# Visualize the predictions\n",
    "cmap = []\n",
    "title=[]\n",
    "   \n",
    "for i in range(len(resultOfprediction)):\n",
    "     if resultOfprediction[i] == testImageLabels[i]:\n",
    "        cmap.append(\"gray\")\n",
    "        title.append(classNames[resultOfprediction[i]])\n",
    "     else:\n",
    "        cmap.append(\"Reds\")\n",
    "        title.append(f\"predicted:{classNames[resultOfprediction[i]]} | Original:{classNames[testImageLabels[i]]}\")\n",
    "\n",
    "\n",
    "\n",
    "# print(f\"cmap -----------------------out:\\n{cmap}\")\n",
    "print(f\"titles---------------------------\\n{title}\")\n",
    "# print(f\"prediction------------------------\\n{resultOfprediction}\")\n",
    "# print(f\"test samples used-----------------\\n{ testImageLabels}\")\n",
    "# print(f\"test samples used-----------------\\n{ testImageSamples_tensor.shape}\")\n",
    "\n",
    "plot_fn(testSampleDataset, text=\"original data \" )\n",
    "dataPredicted = create_tensor_dataset(testImageSamples_tensor,resultOfprediction) # create the predicted data to able to use the plot function we create\n",
    "print(\"-----------------------------------------\")\n",
    "\n"
   ]
  },
  {
   "cell_type": "code",
   "execution_count": 530,
   "id": "da845473-7718-4f03-b82a-846522aecb18",
   "metadata": {},
   "outputs": [
    {
     "name": "stdout",
     "output_type": "stream",
     "text": [
      "\"\n",
      "\" + \" \" * 20 + \"----------- Plotting  2 * 8 samples with label  Predicted data-----------\" + \"\n",
      "\"\n",
      "['Sandal', 'Trouser', 'Sneaker', 'predicted:Pullover | Original:Coat', 'Dress', 'T-shirt/top', 'Coat', 'Sneaker', 'Trouser', 'Ankle boot', 'Sneaker', 'Pullover', 'T-shirt/top', 'Trouser', 'T-shirt/top', 'predicted:Dress | Original:Coat', 'Sandal', 'predicted:Pullover | Original:Coat']\n"
     ]
    },
    {
     "data": {
      "image/png": "[encoded data removed]",
      "text/plain": [
       "<Figure size 1200x1200 with 16 Axes>"
      ]
     },
     "metadata": {},
     "output_type": "display_data"
    }
   ],
   "source": [
    "plot_fn(dataPredicted , cmap1=cmap, title1=title , text=\"Predicted data\")\n",
    "print(title)"
   ]
  },
  {
   "cell_type": "markdown",
   "id": "1125c414-dd24-4617-b220-b41582a98a41",
   "metadata": {},
   "source": [
    "## We were confused by the results for some items.\n",
    "* __mlxtend__ :   is a Python library that provides various machine learning extensions, including data preprocessing, feature engineering, model evaluation, and visualization tools.--->> __plot_confusion_matrix__\n",
    "* __torchmetrics__ : for __ConfusionMatrix__"
   ]
  },
  {
   "cell_type": "code",
   "execution_count": 540,
   "id": "8911e447-a7fa-44c7-9794-6180356403b6",
   "metadata": {},
   "outputs": [],
   "source": [
    "# !pip install torchmetrics"
   ]
  },
  {
   "cell_type": "code",
   "execution_count": 563,
   "id": "7aaea1fb-f022-4525-a4e7-f2c7f3146eb1",
   "metadata": {},
   "outputs": [
    {
     "data": {
      "application/vnd.jupyter.widget-view+json": {
       "model_id": "576215a60efe4be28f594d9b8aff9a6b",
       "version_major": 2,
       "version_minor": 0
      },
      "text/plain": [
       "Prediction:   0%|          | 0/313 [00:00<?, ?it/s]"
      ]
     },
     "metadata": {},
     "output_type": "display_data"
    }
   ],
   "source": [
    "\n",
    "TestImages, TestLabels , predictedTestData = [] , [] , []\n",
    "\n",
    "pbar = tqdm(total=len(test_dataloader), desc=\"Prediction\")\n",
    "\n",
    "for X, y in test_dataloader :\n",
    "    X , y = X.to(device) , y.to(device)\n",
    "    TestImages =  X\n",
    "    predictedTestData.append(prediction_fn(model=model1 , data=TestImages))\n",
    "    pbar.update(1)  # Update the progress bar by 1\n",
    "pbar.close()  \n",
    "\n",
    "\n"
   ]
  },
  {
   "cell_type": "code",
   "execution_count": 557,
   "id": "8f6afd58-2533-4394-b145-341854d7df84",
   "metadata": {},
   "outputs": [],
   "source": [
    "predictedTestData_tensor = torch.cat(predictedTestData) to converte the list of tensors ( 32 element / tensor) to one tensor"
   ]
  },
  {
   "cell_type": "code",
   "execution_count": 559,
   "id": "aa2efa40-119b-4250-a331-c209b31c793b",
   "metadata": {},
   "outputs": [
    {
     "data": {
      "text/plain": [
       "tensor([9, 2, 1,  ..., 8, 1, 5])"
      ]
     },
     "execution_count": 559,
     "metadata": {},
     "output_type": "execute_result"
    }
   ],
   "source": [
    "# test_data.targets labels"
   ]
  },
  {
   "cell_type": "code",
   "execution_count": 573,
   "id": "bbc220d9-aa39-46f4-898a-558f9b3e4335",
   "metadata": {},
   "outputs": [
    {
     "data": {
      "image/png": "[encoded data removed]",
      "text/plain": [
       "<Figure size 500x500 with 1 Axes>"
      ]
     },
     "metadata": {},
     "output_type": "display_data"
    }
   ],
   "source": [
    "# !pip install mlxtend \n",
    "import mlxtend  , torchmetrics\n",
    "from torchmetrics import ConfusionMatrix\n",
    "from mlxtend.plotting import plot_confusion_matrix\n",
    "\n",
    "#  setup confusion instance and compare prediction to the original \n",
    "confMat = ConfusionMatrix(num_classes = len(classNames) , task = 'multiclass')\n",
    "confMatTensor = confMat( preds = predictedTestData_tensor , target = test_data.targets )\n",
    "# plot the confusion matrix\n",
    "fig , ax = plot_confusion_matrix(\n",
    "           conf_mat=confMatTensor.numpy(), \n",
    "           class_names=classNames, cmap='coolwarm',\n",
    "           figsize=(5 , 5)\n",
    ")\n"
   ]
  },
  {
   "cell_type": "code",
   "execution_count": 568,
   "id": "46be9887-571f-42e2-9a45-8c8ec2af19e8",
   "metadata": {},
   "outputs": [],
   "source": [
    "# save the model\n",
    "torch.save(obj=model1.state_dict(), f = \"\"model1.pt)"
   ]
  },
  {
   "cell_type": "code",
   "execution_count": null,
   "id": "b93f6abf-c412-411e-be9e-5062fbc9c542",
   "metadata": {},
   "outputs": [],
   "source": []
  }
 ],
 "metadata": {
  "kernelspec": {
   "display_name": "Python 3 (ipykernel)",
   "language": "python",
   "name": "python3"
  },
  "language_info": {
   "codemirror_mode": {
    "name": "ipython",
    "version": 3
   },
   "file_extension": ".py",
   "mimetype": "text/x-python",
   "name": "python",
   "nbconvert_exporter": "python",
   "pygments_lexer": "ipython3",
   "version": "3.12.2"
  },
  "widgets": {
   "application/vnd.jupyter.widget-state+json": {
    "state": {
     "0011ef8bb4394e38a522641a110fe5cc": {
      "model_module": "@jupyter-widgets/base",
      "model_module_version": "2.0.0",
      "model_name": "LayoutModel",
      "state": {}
     },
     "020e0390b1374bd28b395122f088869e": {
      "model_module": "@jupyter-widgets/controls",
      "model_module_version": "2.0.0",
      "model_name": "ProgressStyleModel",
      "state": {
       "description_width": ""
      }
     },
     "05f538e883154d148fb4d653fa885915": {
      "model_module": "@jupyter-widgets/controls",
      "model_module_version": "2.0.0",
      "model_name": "HTMLModel",
      "state": {
       "layout": "IPY_MODEL_c763ba1c86d343ba959e36ba75bdadca",
       "style": "IPY_MODEL_4fd3846b18414b1aa7aadbe34d333a71",
       "value": " 313/313 [00:11&lt;00:00, 29.48it/s]"
      }
     },
     "0667a53b2e57405a953d700ff89205f8": {
      "model_module": "@jupyter-widgets/controls",
      "model_module_version": "2.0.0",
      "model_name": "HBoxModel",
      "state": {
       "children": [
        "IPY_MODEL_ddc3eb5b03404a978d310d54e76c9b1b",
        "IPY_MODEL_d164431833a54d7c98de5ea62a37a021",
        "IPY_MODEL_0d16e7edc96647b39e57cb79b7f87071"
       ],
       "layout": "IPY_MODEL_10e056eec6564ab4accd86210a5713f5"
      }
     },
     "07b1d3ed656947efab3819a44a4d996e": {
      "model_module": "@jupyter-widgets/controls",
      "model_module_version": "2.0.0",
      "model_name": "HTMLModel",
      "state": {
       "layout": "IPY_MODEL_7ead7705a30843129b8643d32b83dc1e",
       "style": "IPY_MODEL_c67777376d9d42d8be8de1bd71a05dfe",
       "value": " 313/313 [00:09&lt;00:00, 32.86it/s]"
      }
     },
     "087bc1a04e2b49c08fad91ab94059864": {
      "model_module": "@jupyter-widgets/base",
      "model_module_version": "2.0.0",
      "model_name": "LayoutModel",
      "state": {}
     },
     "0a1cadd1b7784a41a678d5f30d1e45db": {
      "model_module": "@jupyter-widgets/controls",
      "model_module_version": "2.0.0",
      "model_name": "HTMLModel",
      "state": {
       "layout": "IPY_MODEL_18399cadc7d94806a4716bd9127192da",
       "style": "IPY_MODEL_5e30cbcea57b4a44accef062a5738edf",
       "value": " 3/3 [03:04&lt;00:00, 61.11s/it]"
      }
     },
     "0c449d4c7cd34fdebc0af871fb320b2e": {
      "model_module": "@jupyter-widgets/base",
      "model_module_version": "2.0.0",
      "model_name": "LayoutModel",
      "state": {}
     },
     "0d00cb43229544aaa849ab273c67d532": {
      "model_module": "@jupyter-widgets/base",
      "model_module_version": "2.0.0",
      "model_name": "LayoutModel",
      "state": {}
     },
     "0d16e7edc96647b39e57cb79b7f87071": {
      "model_module": "@jupyter-widgets/controls",
      "model_module_version": "2.0.0",
      "model_name": "HTMLModel",
      "state": {
       "layout": "IPY_MODEL_d3a84d471efb40abbc4d1146675b8823",
       "style": "IPY_MODEL_3e29947d980147deb692685e118011fe",
       "value": " 313/313 [00:09&lt;00:00, 33.15it/s]"
      }
     },
     "0f91b53bc10447018cd3731187256bc8": {
      "model_module": "@jupyter-widgets/controls",
      "model_module_version": "2.0.0",
      "model_name": "FloatProgressModel",
      "state": {
       "bar_style": "success",
       "layout": "IPY_MODEL_8b0f61d9d28c4ed6bf981ceb089a815a",
       "max": 3,
       "style": "IPY_MODEL_6ab690027f19481fa58689aa8ebad77b",
       "value": 3
      }
     },
     "10e056eec6564ab4accd86210a5713f5": {
      "model_module": "@jupyter-widgets/base",
      "model_module_version": "2.0.0",
      "model_name": "LayoutModel",
      "state": {}
     },
     "11ed829840524a86b7d36b8ed5a2a393": {
      "model_module": "@jupyter-widgets/base",
      "model_module_version": "2.0.0",
      "model_name": "LayoutModel",
      "state": {}
     },
     "164d04f08278494ead61391d31435e36": {
      "model_module": "@jupyter-widgets/controls",
      "model_module_version": "2.0.0",
      "model_name": "HTMLModel",
      "state": {
       "layout": "IPY_MODEL_4ee105a1ef044fbc957a84c2ea276aaa",
       "style": "IPY_MODEL_2b78a0c06034429cb9e133d568864083",
       "value": " 3/3 [00:16&lt;00:00,  5.62s/it]"
      }
     },
     "18399cadc7d94806a4716bd9127192da": {
      "model_module": "@jupyter-widgets/base",
      "model_module_version": "2.0.0",
      "model_name": "LayoutModel",
      "state": {}
     },
     "1ac774a0464d492ca257c5b69720323b": {
      "model_module": "@jupyter-widgets/controls",
      "model_module_version": "2.0.0",
      "model_name": "FloatProgressModel",
      "state": {
       "bar_style": "success",
       "layout": "IPY_MODEL_57e8af9adc27447692f51ef39cfd9855",
       "max": 313,
       "style": "IPY_MODEL_55f1c6ea6c164f00b5545dd6958f2939",
       "value": 313
      }
     },
     "1c5908e02b154a27bf983d812d65043e": {
      "model_module": "@jupyter-widgets/controls",
      "model_module_version": "2.0.0",
      "model_name": "HTMLModel",
      "state": {
       "layout": "IPY_MODEL_76f87e25fc4f4a42bad85bc8efc0f054",
       "style": "IPY_MODEL_41b1cb452d1e4dcfbadd517c7c1fa2de",
       "value": " 3/3 [00:14&lt;00:00,  4.84s/it]"
      }
     },
     "1e86774844954e0bb132b96fa3dab7ce": {
      "model_module": "@jupyter-widgets/base",
      "model_module_version": "2.0.0",
      "model_name": "LayoutModel",
      "state": {}
     },
     "203088cb442b40f6972eb509a86f4b68": {
      "model_module": "@jupyter-widgets/controls",
      "model_module_version": "2.0.0",
      "model_name": "HBoxModel",
      "state": {
       "children": [
        "IPY_MODEL_d7c3c2458d074877837b2992d0e4108a",
        "IPY_MODEL_624fe2e8b03241b28d4a7415460f0cf4",
        "IPY_MODEL_05f538e883154d148fb4d653fa885915"
       ],
       "layout": "IPY_MODEL_1e86774844954e0bb132b96fa3dab7ce"
      }
     },
     "26ce594456be43c2a69ea7144474ec54": {
      "model_module": "@jupyter-widgets/base",
      "model_module_version": "2.0.0",
      "model_name": "LayoutModel",
      "state": {}
     },
     "2a5809761a67496ba868c77d69d314f5": {
      "model_module": "@jupyter-widgets/base",
      "model_module_version": "2.0.0",
      "model_name": "LayoutModel",
      "state": {}
     },
     "2b78a0c06034429cb9e133d568864083": {
      "model_module": "@jupyter-widgets/controls",
      "model_module_version": "2.0.0",
      "model_name": "HTMLStyleModel",
      "state": {
       "description_width": "",
       "font_size": null,
       "text_color": null
      }
     },
     "2f74e44f887e45f0a2f55993fe93106c": {
      "model_module": "@jupyter-widgets/controls",
      "model_module_version": "2.0.0",
      "model_name": "HTMLStyleModel",
      "state": {
       "description_width": "",
       "font_size": null,
       "text_color": null
      }
     },
     "304f080f7970401c964c22fa827161cd": {
      "model_module": "@jupyter-widgets/controls",
      "model_module_version": "2.0.0",
      "model_name": "HTMLStyleModel",
      "state": {
       "description_width": "",
       "font_size": null,
       "text_color": null
      }
     },
     "3111ac27b4c1418ebc53bcc40fe0e5a8": {
      "model_module": "@jupyter-widgets/base",
      "model_module_version": "2.0.0",
      "model_name": "LayoutModel",
      "state": {}
     },
     "3bdc49f306134d25a99ca5b5a17f4456": {
      "model_module": "@jupyter-widgets/controls",
      "model_module_version": "2.0.0",
      "model_name": "FloatProgressModel",
      "state": {
       "bar_style": "success",
       "layout": "IPY_MODEL_0011ef8bb4394e38a522641a110fe5cc",
       "max": 3,
       "style": "IPY_MODEL_ea0b0ea2713549108807efe9d0921849",
       "value": 3
      }
     },
     "3e29947d980147deb692685e118011fe": {
      "model_module": "@jupyter-widgets/controls",
      "model_module_version": "2.0.0",
      "model_name": "HTMLStyleModel",
      "state": {
       "description_width": "",
       "font_size": null,
       "text_color": null
      }
     },
     "401aa9e7924f434398016f6f8600b421": {
      "model_module": "@jupyter-widgets/controls",
      "model_module_version": "2.0.0",
      "model_name": "HTMLStyleModel",
      "state": {
       "description_width": "",
       "font_size": null,
       "text_color": null
      }
     },
     "41b1cb452d1e4dcfbadd517c7c1fa2de": {
      "model_module": "@jupyter-widgets/controls",
      "model_module_version": "2.0.0",
      "model_name": "HTMLStyleModel",
      "state": {
       "description_width": "",
       "font_size": null,
       "text_color": null
      }
     },
     "450b9a51fc9546c9848c5a048832152b": {
      "model_module": "@jupyter-widgets/base",
      "model_module_version": "2.0.0",
      "model_name": "LayoutModel",
      "state": {}
     },
     "4948a3b83f6748c3b89e9ccf930a3828": {
      "model_module": "@jupyter-widgets/base",
      "model_module_version": "2.0.0",
      "model_name": "LayoutModel",
      "state": {}
     },
     "4aaf728232b042a285fd14eb71ef2991": {
      "model_module": "@jupyter-widgets/controls",
      "model_module_version": "2.0.0",
      "model_name": "HTMLModel",
      "state": {
       "layout": "IPY_MODEL_3111ac27b4c1418ebc53bcc40fe0e5a8",
       "style": "IPY_MODEL_6632038a459b42d792f80370c16dfd48",
       "value": "100%"
      }
     },
     "4bc88832bf5e4a90a3a5f215f0143a21": {
      "model_module": "@jupyter-widgets/controls",
      "model_module_version": "2.0.0",
      "model_name": "HTMLStyleModel",
      "state": {
       "description_width": "",
       "font_size": null,
       "text_color": null
      }
     },
     "4ee105a1ef044fbc957a84c2ea276aaa": {
      "model_module": "@jupyter-widgets/base",
      "model_module_version": "2.0.0",
      "model_name": "LayoutModel",
      "state": {}
     },
     "4fd3846b18414b1aa7aadbe34d333a71": {
      "model_module": "@jupyter-widgets/controls",
      "model_module_version": "2.0.0",
      "model_name": "HTMLStyleModel",
      "state": {
       "description_width": "",
       "font_size": null,
       "text_color": null
      }
     },
     "50892c765d7f451482b227b6facb1d83": {
      "model_module": "@jupyter-widgets/base",
      "model_module_version": "2.0.0",
      "model_name": "LayoutModel",
      "state": {}
     },
     "540e3da5c5dc4b1da8f0d4521421c38b": {
      "model_module": "@jupyter-widgets/base",
      "model_module_version": "2.0.0",
      "model_name": "LayoutModel",
      "state": {}
     },
     "546b4dc98dea4a1197b1714fdb60c31c": {
      "model_module": "@jupyter-widgets/controls",
      "model_module_version": "2.0.0",
      "model_name": "HBoxModel",
      "state": {
       "children": [
        "IPY_MODEL_cfc0853961614d888ab67818480baac5",
        "IPY_MODEL_3bdc49f306134d25a99ca5b5a17f4456",
        "IPY_MODEL_1c5908e02b154a27bf983d812d65043e"
       ],
       "layout": "IPY_MODEL_a2ba258572144c72ac24e60c61bf52df"
      }
     },
     "55f1c6ea6c164f00b5545dd6958f2939": {
      "model_module": "@jupyter-widgets/controls",
      "model_module_version": "2.0.0",
      "model_name": "ProgressStyleModel",
      "state": {
       "description_width": ""
      }
     },
     "576215a60efe4be28f594d9b8aff9a6b": {
      "model_module": "@jupyter-widgets/controls",
      "model_module_version": "2.0.0",
      "model_name": "HBoxModel",
      "state": {
       "children": [
        "IPY_MODEL_bad9b21db5f84d13b32fc27c2719679f",
        "IPY_MODEL_86736da942444b0c8835781ad8e083fd",
        "IPY_MODEL_a034910650064b76a35c43fea91b357c"
       ],
       "layout": "IPY_MODEL_4948a3b83f6748c3b89e9ccf930a3828"
      }
     },
     "57e8af9adc27447692f51ef39cfd9855": {
      "model_module": "@jupyter-widgets/base",
      "model_module_version": "2.0.0",
      "model_name": "LayoutModel",
      "state": {}
     },
     "5e30cbcea57b4a44accef062a5738edf": {
      "model_module": "@jupyter-widgets/controls",
      "model_module_version": "2.0.0",
      "model_name": "HTMLStyleModel",
      "state": {
       "description_width": "",
       "font_size": null,
       "text_color": null
      }
     },
     "624fe2e8b03241b28d4a7415460f0cf4": {
      "model_module": "@jupyter-widgets/controls",
      "model_module_version": "2.0.0",
      "model_name": "FloatProgressModel",
      "state": {
       "bar_style": "success",
       "layout": "IPY_MODEL_450b9a51fc9546c9848c5a048832152b",
       "max": 313,
       "style": "IPY_MODEL_73c49f660c13429b96f698294ddc57a5",
       "value": 313
      }
     },
     "6632038a459b42d792f80370c16dfd48": {
      "model_module": "@jupyter-widgets/controls",
      "model_module_version": "2.0.0",
      "model_name": "HTMLStyleModel",
      "state": {
       "description_width": "",
       "font_size": null,
       "text_color": null
      }
     },
     "69e20c4d821841f89a4827442c284771": {
      "model_module": "@jupyter-widgets/controls",
      "model_module_version": "2.0.0",
      "model_name": "FloatProgressModel",
      "state": {
       "bar_style": "success",
       "layout": "IPY_MODEL_50892c765d7f451482b227b6facb1d83",
       "max": 313,
       "style": "IPY_MODEL_f2448eab23624b8e908aec3cd3224bcd",
       "value": 313
      }
     },
     "6ab690027f19481fa58689aa8ebad77b": {
      "model_module": "@jupyter-widgets/controls",
      "model_module_version": "2.0.0",
      "model_name": "ProgressStyleModel",
      "state": {
       "description_width": ""
      }
     },
     "73c49f660c13429b96f698294ddc57a5": {
      "model_module": "@jupyter-widgets/controls",
      "model_module_version": "2.0.0",
      "model_name": "ProgressStyleModel",
      "state": {
       "description_width": ""
      }
     },
     "74385ed819724fd18e9dffd4cd0df246": {
      "model_module": "@jupyter-widgets/controls",
      "model_module_version": "2.0.0",
      "model_name": "HTMLModel",
      "state": {
       "layout": "IPY_MODEL_9996f39a79ad46e99dc5b374c8246d94",
       "style": "IPY_MODEL_f3d98a484ef84765a6d791c4dcaf407c",
       "value": "Epochs: 100%"
      }
     },
     "74d79fef3b7a4b04bd48de0287e7f34d": {
      "model_module": "@jupyter-widgets/controls",
      "model_module_version": "2.0.0",
      "model_name": "FloatProgressModel",
      "state": {
       "bar_style": "success",
       "layout": "IPY_MODEL_11ed829840524a86b7d36b8ed5a2a393",
       "max": 313,
       "style": "IPY_MODEL_020e0390b1374bd28b395122f088869e",
       "value": 313
      }
     },
     "76b1483424be42b7b1f2fda6010999a4": {
      "model_module": "@jupyter-widgets/controls",
      "model_module_version": "2.0.0",
      "model_name": "HBoxModel",
      "state": {
       "children": [
        "IPY_MODEL_c0961788d0204aae827a7ee1783a9f69",
        "IPY_MODEL_1ac774a0464d492ca257c5b69720323b",
        "IPY_MODEL_899a7244e26c48e4b32946e5a68d5268"
       ],
       "layout": "IPY_MODEL_0c449d4c7cd34fdebc0af871fb320b2e"
      }
     },
     "76f87e25fc4f4a42bad85bc8efc0f054": {
      "model_module": "@jupyter-widgets/base",
      "model_module_version": "2.0.0",
      "model_name": "LayoutModel",
      "state": {}
     },
     "7724f5287b904aeeb742544a6636ca39": {
      "model_module": "@jupyter-widgets/controls",
      "model_module_version": "2.0.0",
      "model_name": "HBoxModel",
      "state": {
       "children": [
        "IPY_MODEL_80a50be05be04a9cba7044fe05100b0b",
        "IPY_MODEL_74d79fef3b7a4b04bd48de0287e7f34d",
        "IPY_MODEL_07b1d3ed656947efab3819a44a4d996e"
       ],
       "layout": "IPY_MODEL_2a5809761a67496ba868c77d69d314f5"
      }
     },
     "7ead7705a30843129b8643d32b83dc1e": {
      "model_module": "@jupyter-widgets/base",
      "model_module_version": "2.0.0",
      "model_name": "LayoutModel",
      "state": {}
     },
     "7ebd972591d4407c85cfbbc4d0172a7c": {
      "model_module": "@jupyter-widgets/controls",
      "model_module_version": "2.0.0",
      "model_name": "HTMLModel",
      "state": {
       "layout": "IPY_MODEL_087bc1a04e2b49c08fad91ab94059864",
       "style": "IPY_MODEL_304f080f7970401c964c22fa827161cd",
       "value": "Prediction: 100%"
      }
     },
     "80a50be05be04a9cba7044fe05100b0b": {
      "model_module": "@jupyter-widgets/controls",
      "model_module_version": "2.0.0",
      "model_name": "HTMLModel",
      "state": {
       "layout": "IPY_MODEL_c9c0c940a791465daeb052bc2c6f555b",
       "style": "IPY_MODEL_d6d3a4ad435245ca81b89311fafb773c",
       "value": "Prediction: 100%"
      }
     },
     "83fcdec4550147d7bdf05ef60067979c": {
      "model_module": "@jupyter-widgets/controls",
      "model_module_version": "2.0.0",
      "model_name": "HBoxModel",
      "state": {
       "children": [
        "IPY_MODEL_74385ed819724fd18e9dffd4cd0df246",
        "IPY_MODEL_9197d62955f54ec09606812afe5e372c",
        "IPY_MODEL_164d04f08278494ead61391d31435e36"
       ],
       "layout": "IPY_MODEL_d715af15f23942f78254446634c5d793"
      }
     },
     "86736da942444b0c8835781ad8e083fd": {
      "model_module": "@jupyter-widgets/controls",
      "model_module_version": "2.0.0",
      "model_name": "FloatProgressModel",
      "state": {
       "bar_style": "success",
       "layout": "IPY_MODEL_0d00cb43229544aaa849ab273c67d532",
       "max": 313,
       "style": "IPY_MODEL_a0dc625cc55a438094a32a0fb0dc3191",
       "value": 313
      }
     },
     "899a7244e26c48e4b32946e5a68d5268": {
      "model_module": "@jupyter-widgets/controls",
      "model_module_version": "2.0.0",
      "model_name": "HTMLModel",
      "state": {
       "layout": "IPY_MODEL_ff19035448484e119e0520aadf65ae08",
       "style": "IPY_MODEL_401aa9e7924f434398016f6f8600b421",
       "value": " 313/313 [07:01&lt;00:00, 35.70it/s]"
      }
     },
     "8a1266c2db8f4abf930575815570c98e": {
      "model_module": "@jupyter-widgets/controls",
      "model_module_version": "2.0.0",
      "model_name": "HBoxModel",
      "state": {
       "children": [
        "IPY_MODEL_4aaf728232b042a285fd14eb71ef2991",
        "IPY_MODEL_0f91b53bc10447018cd3731187256bc8",
        "IPY_MODEL_0a1cadd1b7784a41a678d5f30d1e45db"
       ],
       "layout": "IPY_MODEL_bd68f28d6692485ca5be9bb95f01488d"
      }
     },
     "8b0f61d9d28c4ed6bf981ceb089a815a": {
      "model_module": "@jupyter-widgets/base",
      "model_module_version": "2.0.0",
      "model_name": "LayoutModel",
      "state": {}
     },
     "9197d62955f54ec09606812afe5e372c": {
      "model_module": "@jupyter-widgets/controls",
      "model_module_version": "2.0.0",
      "model_name": "FloatProgressModel",
      "state": {
       "bar_style": "success",
       "layout": "IPY_MODEL_a6021443851d4e40b1f2a3dbd844ad41",
       "max": 3,
       "style": "IPY_MODEL_b85d3fd18fc24255b6526f429aa0cdbd",
       "value": 3
      }
     },
     "91f1c2f5b4b34c7bb169be5423fece3e": {
      "model_module": "@jupyter-widgets/controls",
      "model_module_version": "2.0.0",
      "model_name": "HTMLStyleModel",
      "state": {
       "description_width": "",
       "font_size": null,
       "text_color": null
      }
     },
     "99845fb720e649d19d9b30a9075709e9": {
      "model_module": "@jupyter-widgets/controls",
      "model_module_version": "2.0.0",
      "model_name": "HBoxModel",
      "state": {
       "children": [
        "IPY_MODEL_7ebd972591d4407c85cfbbc4d0172a7c",
        "IPY_MODEL_69e20c4d821841f89a4827442c284771",
        "IPY_MODEL_b3f34ca656e34f7aa79738dbdfb26845"
       ],
       "layout": "IPY_MODEL_fe4603540a204df89a0c43fb040e9aef"
      }
     },
     "9996f39a79ad46e99dc5b374c8246d94": {
      "model_module": "@jupyter-widgets/base",
      "model_module_version": "2.0.0",
      "model_name": "LayoutModel",
      "state": {}
     },
     "9fa429a098fc47e680a0a8c61ab3a7bb": {
      "model_module": "@jupyter-widgets/base",
      "model_module_version": "2.0.0",
      "model_name": "LayoutModel",
      "state": {}
     },
     "a034910650064b76a35c43fea91b357c": {
      "model_module": "@jupyter-widgets/controls",
      "model_module_version": "2.0.0",
      "model_name": "HTMLModel",
      "state": {
       "layout": "IPY_MODEL_fa8e4d6caa1c4faea345565af0a0872b",
       "style": "IPY_MODEL_91f1c2f5b4b34c7bb169be5423fece3e",
       "value": " 313/313 [00:09&lt;00:00, 34.21it/s]"
      }
     },
     "a0dc625cc55a438094a32a0fb0dc3191": {
      "model_module": "@jupyter-widgets/controls",
      "model_module_version": "2.0.0",
      "model_name": "ProgressStyleModel",
      "state": {
       "description_width": ""
      }
     },
     "a2ba258572144c72ac24e60c61bf52df": {
      "model_module": "@jupyter-widgets/base",
      "model_module_version": "2.0.0",
      "model_name": "LayoutModel",
      "state": {}
     },
     "a6021443851d4e40b1f2a3dbd844ad41": {
      "model_module": "@jupyter-widgets/base",
      "model_module_version": "2.0.0",
      "model_name": "LayoutModel",
      "state": {}
     },
     "aa3d25b95e514545b7320107c86e58ca": {
      "model_module": "@jupyter-widgets/controls",
      "model_module_version": "2.0.0",
      "model_name": "HTMLStyleModel",
      "state": {
       "description_width": "",
       "font_size": null,
       "text_color": null
      }
     },
     "acefb76d93924df58b6d5f137826130d": {
      "model_module": "@jupyter-widgets/base",
      "model_module_version": "2.0.0",
      "model_name": "LayoutModel",
      "state": {}
     },
     "b0b8eab0ec8c4b0a836e37e46a9031c6": {
      "model_module": "@jupyter-widgets/controls",
      "model_module_version": "2.0.0",
      "model_name": "HTMLStyleModel",
      "state": {
       "description_width": "",
       "font_size": null,
       "text_color": null
      }
     },
     "b3f34ca656e34f7aa79738dbdfb26845": {
      "model_module": "@jupyter-widgets/controls",
      "model_module_version": "2.0.0",
      "model_name": "HTMLModel",
      "state": {
       "layout": "IPY_MODEL_26ce594456be43c2a69ea7144474ec54",
       "style": "IPY_MODEL_2f74e44f887e45f0a2f55993fe93106c",
       "value": " 313/313 [57:35&lt;00:00, 31.10it/s]"
      }
     },
     "b85d3fd18fc24255b6526f429aa0cdbd": {
      "model_module": "@jupyter-widgets/controls",
      "model_module_version": "2.0.0",
      "model_name": "ProgressStyleModel",
      "state": {
       "description_width": ""
      }
     },
     "bad9b21db5f84d13b32fc27c2719679f": {
      "model_module": "@jupyter-widgets/controls",
      "model_module_version": "2.0.0",
      "model_name": "HTMLModel",
      "state": {
       "layout": "IPY_MODEL_540e3da5c5dc4b1da8f0d4521421c38b",
       "style": "IPY_MODEL_b0b8eab0ec8c4b0a836e37e46a9031c6",
       "value": "Prediction: 100%"
      }
     },
     "bd4781f9dc574bc4ba20808d996921e6": {
      "model_module": "@jupyter-widgets/base",
      "model_module_version": "2.0.0",
      "model_name": "LayoutModel",
      "state": {}
     },
     "bd68f28d6692485ca5be9bb95f01488d": {
      "model_module": "@jupyter-widgets/base",
      "model_module_version": "2.0.0",
      "model_name": "LayoutModel",
      "state": {}
     },
     "bf791b36c1ef4adaaff16b74ca458702": {
      "model_module": "@jupyter-widgets/controls",
      "model_module_version": "2.0.0",
      "model_name": "HTMLStyleModel",
      "state": {
       "description_width": "",
       "font_size": null,
       "text_color": null
      }
     },
     "c0961788d0204aae827a7ee1783a9f69": {
      "model_module": "@jupyter-widgets/controls",
      "model_module_version": "2.0.0",
      "model_name": "HTMLModel",
      "state": {
       "layout": "IPY_MODEL_9fa429a098fc47e680a0a8c61ab3a7bb",
       "style": "IPY_MODEL_d268f8bb56ed4b4896e4403e6cd7e862",
       "value": "Prediction: 100%"
      }
     },
     "c67777376d9d42d8be8de1bd71a05dfe": {
      "model_module": "@jupyter-widgets/controls",
      "model_module_version": "2.0.0",
      "model_name": "HTMLStyleModel",
      "state": {
       "description_width": "",
       "font_size": null,
       "text_color": null
      }
     },
     "c763ba1c86d343ba959e36ba75bdadca": {
      "model_module": "@jupyter-widgets/base",
      "model_module_version": "2.0.0",
      "model_name": "LayoutModel",
      "state": {}
     },
     "c9c0c940a791465daeb052bc2c6f555b": {
      "model_module": "@jupyter-widgets/base",
      "model_module_version": "2.0.0",
      "model_name": "LayoutModel",
      "state": {}
     },
     "cfc0853961614d888ab67818480baac5": {
      "model_module": "@jupyter-widgets/controls",
      "model_module_version": "2.0.0",
      "model_name": "HTMLModel",
      "state": {
       "layout": "IPY_MODEL_ebd1c1b6f2044d458d976d85403433a2",
       "style": "IPY_MODEL_4bc88832bf5e4a90a3a5f215f0143a21",
       "value": "Model Testing: 100%"
      }
     },
     "d164431833a54d7c98de5ea62a37a021": {
      "model_module": "@jupyter-widgets/controls",
      "model_module_version": "2.0.0",
      "model_name": "FloatProgressModel",
      "state": {
       "bar_style": "success",
       "layout": "IPY_MODEL_ed9df3a980ab4573a0e9094eae0f6434",
       "max": 313,
       "style": "IPY_MODEL_f4fb4093675e41b28cff377fa1368acb",
       "value": 313
      }
     },
     "d268f8bb56ed4b4896e4403e6cd7e862": {
      "model_module": "@jupyter-widgets/controls",
      "model_module_version": "2.0.0",
      "model_name": "HTMLStyleModel",
      "state": {
       "description_width": "",
       "font_size": null,
       "text_color": null
      }
     },
     "d3a84d471efb40abbc4d1146675b8823": {
      "model_module": "@jupyter-widgets/base",
      "model_module_version": "2.0.0",
      "model_name": "LayoutModel",
      "state": {}
     },
     "d6d3a4ad435245ca81b89311fafb773c": {
      "model_module": "@jupyter-widgets/controls",
      "model_module_version": "2.0.0",
      "model_name": "HTMLStyleModel",
      "state": {
       "description_width": "",
       "font_size": null,
       "text_color": null
      }
     },
     "d715af15f23942f78254446634c5d793": {
      "model_module": "@jupyter-widgets/base",
      "model_module_version": "2.0.0",
      "model_name": "LayoutModel",
      "state": {}
     },
     "d7c3c2458d074877837b2992d0e4108a": {
      "model_module": "@jupyter-widgets/controls",
      "model_module_version": "2.0.0",
      "model_name": "HTMLModel",
      "state": {
       "layout": "IPY_MODEL_acefb76d93924df58b6d5f137826130d",
       "style": "IPY_MODEL_bf791b36c1ef4adaaff16b74ca458702",
       "value": "Prediction: 100%"
      }
     },
     "ddc3eb5b03404a978d310d54e76c9b1b": {
      "model_module": "@jupyter-widgets/controls",
      "model_module_version": "2.0.0",
      "model_name": "HTMLModel",
      "state": {
       "layout": "IPY_MODEL_bd4781f9dc574bc4ba20808d996921e6",
       "style": "IPY_MODEL_aa3d25b95e514545b7320107c86e58ca",
       "value": "Prediction: 100%"
      }
     },
     "ea0b0ea2713549108807efe9d0921849": {
      "model_module": "@jupyter-widgets/controls",
      "model_module_version": "2.0.0",
      "model_name": "ProgressStyleModel",
      "state": {
       "description_width": ""
      }
     },
     "ebd1c1b6f2044d458d976d85403433a2": {
      "model_module": "@jupyter-widgets/base",
      "model_module_version": "2.0.0",
      "model_name": "LayoutModel",
      "state": {}
     },
     "ed9df3a980ab4573a0e9094eae0f6434": {
      "model_module": "@jupyter-widgets/base",
      "model_module_version": "2.0.0",
      "model_name": "LayoutModel",
      "state": {}
     },
     "f2448eab23624b8e908aec3cd3224bcd": {
      "model_module": "@jupyter-widgets/controls",
      "model_module_version": "2.0.0",
      "model_name": "ProgressStyleModel",
      "state": {
       "description_width": ""
      }
     },
     "f3d98a484ef84765a6d791c4dcaf407c": {
      "model_module": "@jupyter-widgets/controls",
      "model_module_version": "2.0.0",
      "model_name": "HTMLStyleModel",
      "state": {
       "description_width": "",
       "font_size": null,
       "text_color": null
      }
     },
     "f4fb4093675e41b28cff377fa1368acb": {
      "model_module": "@jupyter-widgets/controls",
      "model_module_version": "2.0.0",
      "model_name": "ProgressStyleModel",
      "state": {
       "description_width": ""
      }
     },
     "fa8e4d6caa1c4faea345565af0a0872b": {
      "model_module": "@jupyter-widgets/base",
      "model_module_version": "2.0.0",
      "model_name": "LayoutModel",
      "state": {}
     },
     "fe4603540a204df89a0c43fb040e9aef": {
      "model_module": "@jupyter-widgets/base",
      "model_module_version": "2.0.0",
      "model_name": "LayoutModel",
      "state": {}
     },
     "ff19035448484e119e0520aadf65ae08": {
      "model_module": "@jupyter-widgets/base",
      "model_module_version": "2.0.0",
      "model_name": "LayoutModel",
      "state": {}
     }
    },
    "version_major": 2,
    "version_minor": 0
   }
  }
 },
 "nbformat": 4,
 "nbformat_minor": 5
}
